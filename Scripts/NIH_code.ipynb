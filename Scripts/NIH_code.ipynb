{
 "cells": [
  {
   "cell_type": "code",
   "execution_count": null,
   "metadata": {},
   "outputs": [],
   "source": [
    "#use this to download all diabetes ICD code from the NIH website : https://clinicaltables.nlm.nih.gov/apidoc/conditions/v3/doc.html"
   ]
  },
  {
   "cell_type": "code",
   "execution_count": 1,
   "metadata": {},
   "outputs": [],
   "source": [
    "#pip install requests\n",
    "#pip install beautifulsoup4\n",
    "\n",
    "import os\n",
    "import requests\n",
    "from bs4 import BeautifulSoup\n",
    "import time\n"
   ]
  },
  {
   "cell_type": "code",
   "execution_count": 4,
   "metadata": {},
   "outputs": [
    {
     "name": "stdout",
     "output_type": "stream",
     "text": [
      "Total conditions found: 21\n",
      "ICD-9 Code: 250.00, Primary Name: Diabetes mellitus\n",
      "ICD-9 Code: 250.00, Primary Name: Diabetes mellitus - non insulin dependent\n",
      "ICD-9 Code: 250.01, Primary Name: Diabetes mellitus - insulin dependent\n",
      "ICD-9 Code: 250.10, Primary Name: Diabetic ketoacidosis\n",
      "ICD-9 Code: 250.60, Primary Name: Neuropathy - diabetic\n",
      "ICD-9 Code: 253.5, Primary Name: Diabetes insipidus\n",
      "ICD-9 Code: 790.21, Primary Name: Glucose intolerance\n",
      "Saved: ./data/diabetes/diabetes_info.txt\n"
     ]
    }
   ],
   "source": [
    "\n",
    "# Define the base URL of the API\n",
    "api_url = \"https://clinicaltables.nlm.nih.gov/api/conditions/v3/search\"\n",
    "\n",
    "# Define the directory to save the diabetes information\n",
    "save_dir = './data/diabetes/'\n",
    "\n",
    "# Ensure the save directory exists\n",
    "os.makedirs(save_dir, exist_ok=True)\n",
    "\n",
    "def query_diabetes_information():\n",
    "    # Parameters for the API request\n",
    "    params = {\n",
    "        'terms': 'diabetes',\n",
    "        'df': 'term_icd9_code,primary_name'\n",
    "    }\n",
    "    \n",
    "    try:\n",
    "        # Send a GET request to the API\n",
    "        response = requests.get(api_url, params=params)\n",
    "        response.raise_for_status()  # Raise an exception for HTTP errors\n",
    "        \n",
    "        # Parse the JSON response\n",
    "        data = response.json()\n",
    "        \n",
    "        # Extract information\n",
    "        count = data[0]\n",
    "        codes_and_names = data[3]\n",
    "        \n",
    "        print(f\"Total conditions found: {count}\")\n",
    "        diabetes_info = []\n",
    "        for item in codes_and_names:\n",
    "            icd9_code = item[0] if item[0] else \"N/A\"\n",
    "            primary_name = item[1]\n",
    "            diabetes_info.append(f\"ICD-9 Code: {icd9_code}, Primary Name: {primary_name}\")\n",
    "            print(f\"ICD-9 Code: {icd9_code}, Primary Name: {primary_name}\")\n",
    "        \n",
    "        return diabetes_info\n",
    "    \n",
    "    except requests.exceptions.RequestException as e:\n",
    "        print(f\"An error occurred while fetching the data: {e}\")\n",
    "        return None\n",
    "\n",
    "def save_diabetes_info(diabetes_info):\n",
    "    if not diabetes_info:\n",
    "        print(\"No diabetes information to save.\")\n",
    "        return\n",
    "    \n",
    "    filepath = os.path.join(save_dir, \"diabetes_info.txt\")\n",
    "    \n",
    "    with open(filepath, 'w', encoding='utf-8') as file:\n",
    "        for info in diabetes_info:\n",
    "            file.write(info + \"\\n\")\n",
    "    \n",
    "    print(f\"Saved: {filepath}\")\n",
    "\n",
    "def main():\n",
    "    diabetes_info = query_diabetes_information()\n",
    "    if diabetes_info:\n",
    "        save_diabetes_info(diabetes_info)\n",
    "\n",
    "if __name__ == \"__main__\":\n",
    "    main()\n"
   ]
  }
 ],
 "metadata": {
  "kernelspec": {
   "display_name": "Python 3",
   "language": "python",
   "name": "python3"
  },
  "language_info": {
   "codemirror_mode": {
    "name": "ipython",
    "version": 3
   },
   "file_extension": ".py",
   "mimetype": "text/x-python",
   "name": "python",
   "nbconvert_exporter": "python",
   "pygments_lexer": "ipython3",
   "version": "3.11.0"
  }
 },
 "nbformat": 4,
 "nbformat_minor": 2
}
